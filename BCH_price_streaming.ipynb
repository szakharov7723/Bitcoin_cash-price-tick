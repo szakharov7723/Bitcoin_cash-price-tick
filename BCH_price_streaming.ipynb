{
 "cells": [
  {
   "cell_type": "code",
   "execution_count": null,
   "metadata": {
    "application/vnd.databricks.v1+cell": {
     "inputWidgets": {},
     "nuid": "7060bb16-a0e6-4c4d-b4f4-cd1b873dffd1",
     "showTitle": false,
     "title": ""
    }
   },
   "outputs": [],
   "source": [
    "import requests\n",
    "import json\n",
    "from datetime import datetime\n",
    "\n",
    "\n",
    "response = requests.get(\"https://api.blockchain.com/v3/exchange/tickers/BCH-USD\")\n",
    "\n",
    "exchange_data = json.loads(response.text)\n",
    "exchange_data['timestamp'] = str(datetime.now())\n",
    "\n",
    "exchange_data = {key: exchange_data[key] for key in exchange_data.keys() \n",
    "                               & {'timestamp', 'last_trade_price'}} \n",
    " \n",
    "\n",
    "import azure.cosmos.cosmos_client as cosmos_client\n",
    "import azure.cosmos.exceptions as exceptions\n",
    "from azure.cosmos.partition_key import PartitionKey\n",
    "import json\n",
    "\n",
    "\n",
    "client = cosmos_client.CosmosClient(\"https://trade-parser.documents.azure.com:443/\",\"{API key}\")\n",
    "db = client.create_database_if_not_exists(id= \"BCHrealtimePrice\")\n",
    "\n",
    "container = db.create_container_if_not_exists(id=\"TickpriceAPI_BCH\",partition_key=PartitionKey(path ='/date',kind ='Hash'))\n",
    "\n",
    "\n",
    "# load data to nosql\n",
    "\n",
    "exchange_data = json.dumps(exchange_data, default =str)\n",
    "updated_item = container.upsert_item(json.loads(exchange_data))\n",
    "updated_item"
   ]
  },
  {
   "cell_type": "code",
   "execution_count": 0,
   "metadata": {
    "application/vnd.databricks.v1+cell": {
     "inputWidgets": {},
     "nuid": "d0faf002-9c97-4825-9d66-cf9ddb4d8fb9",
     "showTitle": false,
     "title": ""
    }
   },
   "outputs": [],
   "source": []
  }
 ],
 "metadata": {
  "application/vnd.databricks.v1+notebook": {
   "dashboards": [],
   "language": "python",
   "notebookName": "BCH_price_streaming",
   "notebookOrigID": 2874969350990908,
   "widgets": {}
  },
  "kernelspec": {
   "display_name": "Python 3",
   "language": "python",
   "name": "python3"
  },
  "language_info": {
   "codemirror_mode": {
    "name": "ipython",
    "version": 3
   },
   "file_extension": ".py",
   "mimetype": "text/x-python",
   "name": "python",
   "nbconvert_exporter": "python",
   "pygments_lexer": "ipython3",
   "version": "3.8.5"
  }
 },
 "nbformat": 4,
 "nbformat_minor": 1
}
